{
 "cells": [
  {
   "cell_type": "markdown",
   "metadata": {},
   "source": [
    "GPTs 翻译 halcon"
   ]
  },
  {
   "cell_type": "raw",
   "metadata": {},
   "source": [
    "1、将 `*` 后的英文翻译成中文 \n",
    "2、保留 `*`\n",
    "\n",
    "\n",
    "\n",
    "输出代码的格式"
   ]
  },
  {
   "cell_type": "markdown",
   "metadata": {},
   "source": []
  }
 ],
 "metadata": {
  "language_info": {
   "name": "python"
  }
 },
 "nbformat": 4,
 "nbformat_minor": 2
}
